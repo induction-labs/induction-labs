{
 "cells": [
  {
   "cell_type": "code",
   "execution_count": 1,
   "id": "21fa89cf",
   "metadata": {},
   "outputs": [],
   "source": [
    "from synapse.video_loader.video import VideoMetadataFetcher\n",
    "from pathlib import Path\n",
    "\n",
    "\n",
    "\n",
    "video_folder = Path(\"induction-labs/action_capture/jeffrey/2025-06-16_101653_HTKN7\")\n",
    "def get_video_path(vid_index: int) -> Path:\n",
    "    \"\"\"\n",
    "    Returns the path to a video file based on the index.\n",
    "    \"\"\"\n",
    "    return video_folder / f\"screen_capture_{vid_index:06d}.mp4\""
   ]
  },
  {
   "cell_type": "code",
   "execution_count": null,
   "id": "aebe0288",
   "metadata": {},
   "outputs": [
    {
     "name": "stdout",
     "output_type": "stream",
     "text": [
      "{\n",
      "  \"fps\": \"30\",\n",
      "  \"total_frames\": 905,\n",
      "  \"resolution\": {\n",
      "    \"width\": 2880,\n",
      "    \"height\": 1800\n",
      "  },\n",
      "  \"start_pts\": 26881640351232,\n",
      "  \"duration\": 463360,\n",
      "  \"time_base\": \"1/15360\"\n",
      "}\n",
      "{\n",
      "  \"fps\": \"30\",\n",
      "  \"total_frames\": 900,\n",
      "  \"resolution\": {\n",
      "    \"width\": 2880,\n",
      "    \"height\": 1800\n",
      "  },\n",
      "  \"start_pts\": 26881640814582,\n",
      "  \"duration\": 460800,\n",
      "  \"time_base\": \"1/15360\"\n",
      "}\n",
      "26881640814592\n"
     ]
    }
   ],
   "source": [
    "video_indices = range(0,1)\n",
    "video_metadatas = [\n",
    "    VideoMetadataFetcher.from_path(get_video_path(vid_index))\n",
    "    for vid_index in video_indices\n",
    "]\n",
    "# Print with indentation\n",
    "\n",
    "for metadata in video_metadatas:\n",
    "    print(metadata.model_dump_json(indent=2))\n",
    "\n",
    "\n",
    "print(video_metadatas[0].end_pts)"
   ]
  },
  {
   "cell_type": "code",
   "execution_count": null,
   "id": "360fdd6f",
   "metadata": {},
   "outputs": [
    {
     "name": "stdout",
     "output_type": "stream",
     "text": [
      "['gs://induction-labs/action_capture/jeffrey/2025-06-16_101653_HTKN7/screen_capture_000000.mp4', 'gs://induction-labs/action_capture/jeffrey/2025-06-16_101653_HTKN7/screen_capture_000001.mp4', 'gs://induction-labs/action_capture/jeffrey/2025-06-16_101653_HTKN7/screen_capture_000002.mp4', 'gs://induction-labs/action_capture/jeffrey/2025-06-16_101653_HTKN7/screen_capture_000003.mp4', 'gs://induction-labs/action_capture/jeffrey/2025-06-16_101653_HTKN7/screen_capture_000004.mp4', 'gs://induction-labs/action_capture/jeffrey/2025-06-16_101653_HTKN7/screen_capture_000005.mp4', 'gs://induction-labs/action_capture/jeffrey/2025-06-16_101653_HTKN7/screen_capture_000006.mp4', 'gs://induction-labs/action_capture/jeffrey/2025-06-16_101653_HTKN7/screen_capture_000007.mp4', 'gs://induction-labs/action_capture/jeffrey/2025-06-16_101653_HTKN7/screen_capture_000008.mp4', 'gs://induction-labs/action_capture/jeffrey/2025-06-16_101653_HTKN7/screen_capture_000009.mp4', 'gs://induction-labs/action_capture/jeffrey/2025-06-16_101653_HTKN7/screen_capture_000010.mp4', 'gs://induction-labs/action_capture/jeffrey/2025-06-16_101653_HTKN7/screen_capture_000011.mp4', 'gs://induction-labs/action_capture/jeffrey/2025-06-16_101653_HTKN7/screen_capture_000012.mp4', 'gs://induction-labs/action_capture/jeffrey/2025-06-16_101653_HTKN7/screen_capture_000013.mp4', 'gs://induction-labs/action_capture/jeffrey/2025-06-16_101653_HTKN7/screen_capture_000014.mp4', 'gs://induction-labs/action_capture/jeffrey/2025-06-16_101653_HTKN7/screen_capture_000015.mp4', 'gs://induction-labs/action_capture/jeffrey/2025-06-16_101653_HTKN7/screen_capture_000016.mp4', 'gs://induction-labs/action_capture/jeffrey/2025-06-16_101653_HTKN7/screen_capture_000017.mp4', 'gs://induction-labs/action_capture/jeffrey/2025-06-16_101653_HTKN7/screen_capture_000018.mp4', 'gs://induction-labs/action_capture/jeffrey/2025-06-16_101653_HTKN7/screen_capture_000019.mp4', 'gs://induction-labs/action_capture/jeffrey/2025-06-16_101653_HTKN7/screen_capture_000020.mp4', 'gs://induction-labs/action_capture/jeffrey/2025-06-16_101653_HTKN7/screen_capture_000021.mp4', 'gs://induction-labs/action_capture/jeffrey/2025-06-16_101653_HTKN7/screen_capture_000022.mp4', 'gs://induction-labs/action_capture/jeffrey/2025-06-16_101653_HTKN7/screen_capture_000023.mp4', 'gs://induction-labs/action_capture/jeffrey/2025-06-16_101653_HTKN7/screen_capture_000024.mp4']\n"
     ]
    },
    {
     "data": {
      "text/plain": [
       "[VideoMetadata(fps=Fraction(30, 1), total_frames=905, resolution=2880x1800, start_pts=26881281274875, duration=463360, time_base=Fraction(1, 15360)),\n",
       " VideoMetadata(fps=Fraction(30, 1), total_frames=896, resolution=2880x1800, start_pts=26881281738240, duration=458752, time_base=Fraction(1, 15360)),\n",
       " VideoMetadata(fps=Fraction(30, 1), total_frames=907, resolution=2880x1800, start_pts=26881282196982, duration=464384, time_base=Fraction(1, 15360)),\n",
       " VideoMetadata(fps=Fraction(30, 1), total_frames=899, resolution=2880x1800, start_pts=26881282661376, duration=460288, time_base=Fraction(1, 15360)),\n",
       " VideoMetadata(fps=Fraction(30, 1), total_frames=894, resolution=2880x1800, start_pts=26881283121654, duration=457728, time_base=Fraction(1, 15360)),\n",
       " VideoMetadata(fps=Fraction(30, 1), total_frames=900, resolution=2880x1800, start_pts=26881283579382, duration=460800, time_base=Fraction(1, 15360)),\n",
       " VideoMetadata(fps=Fraction(30, 1), total_frames=907, resolution=2880x1800, start_pts=26881284040182, duration=464384, time_base=Fraction(1, 15360)),\n",
       " VideoMetadata(fps=Fraction(30, 1), total_frames=900, resolution=2880x1800, start_pts=26881284504576, duration=460800, time_base=Fraction(1, 15360)),\n",
       " VideoMetadata(fps=Fraction(30, 1), total_frames=903, resolution=2880x1800, start_pts=26881284965376, duration=462336, time_base=Fraction(1, 15360)),\n",
       " VideoMetadata(fps=Fraction(30, 1), total_frames=896, resolution=2880x1800, start_pts=26881285427712, duration=458752, time_base=Fraction(1, 15360)),\n",
       " VideoMetadata(fps=Fraction(30, 1), total_frames=899, resolution=2880x1800, start_pts=26881285886454, duration=460288, time_base=Fraction(1, 15360)),\n",
       " VideoMetadata(fps=Fraction(30, 1), total_frames=904, resolution=2880x1800, start_pts=26881286346747, duration=462848, time_base=Fraction(1, 15360)),\n",
       " VideoMetadata(fps=Fraction(30, 1), total_frames=900, resolution=2880x1800, start_pts=26881286809590, duration=460800, time_base=Fraction(1, 15360)),\n",
       " VideoMetadata(fps=Fraction(30, 1), total_frames=900, resolution=2880x1800, start_pts=26881287270390, duration=460800, time_base=Fraction(1, 15360)),\n",
       " VideoMetadata(fps=Fraction(30, 1), total_frames=900, resolution=2880x1800, start_pts=26881287731190, duration=460800, time_base=Fraction(1, 15360)),\n",
       " VideoMetadata(fps=Fraction(30, 1), total_frames=900, resolution=2880x1800, start_pts=26881288191990, duration=460800, time_base=Fraction(1, 15360)),\n",
       " VideoMetadata(fps=Fraction(30, 1), total_frames=900, resolution=2880x1800, start_pts=26881288652790, duration=460800, time_base=Fraction(1, 15360)),\n",
       " VideoMetadata(fps=Fraction(30, 1), total_frames=900, resolution=2880x1800, start_pts=26881289113590, duration=460800, time_base=Fraction(1, 15360)),\n",
       " VideoMetadata(fps=Fraction(30, 1), total_frames=900, resolution=2880x1800, start_pts=26881289574390, duration=460800, time_base=Fraction(1, 15360)),\n",
       " VideoMetadata(fps=Fraction(30, 1), total_frames=900, resolution=2880x1800, start_pts=26881290035190, duration=460800, time_base=Fraction(1, 15360)),\n",
       " VideoMetadata(fps=Fraction(30, 1), total_frames=900, resolution=2880x1800, start_pts=26881290495990, duration=460800, time_base=Fraction(1, 15360)),\n",
       " VideoMetadata(fps=Fraction(30, 1), total_frames=900, resolution=2880x1800, start_pts=26881290956790, duration=460800, time_base=Fraction(1, 15360)),\n",
       " VideoMetadata(fps=Fraction(30, 1), total_frames=900, resolution=2880x1800, start_pts=26881291417590, duration=460800, time_base=Fraction(1, 15360)),\n",
       " VideoMetadata(fps=Fraction(30, 1), total_frames=900, resolution=2880x1800, start_pts=26881291878390, duration=460800, time_base=Fraction(1, 15360)),\n",
       " VideoMetadata(fps=Fraction(30, 1), total_frames=333, resolution=2880x1800, start_pts=26881292339190, duration=170496, time_base=Fraction(1, 15360))]"
      ]
     },
     "execution_count": 2,
     "metadata": {},
     "output_type": "execute_result"
    }
   ],
   "source": [
    "from synapse.video_loader.file_utils import get_mp4_files\n",
    "import asyncio\n",
    "mp4_files = get_mp4_files(\"gs://\" + str(folder))\n",
    "print(mp4_files)\n",
    "metadatas = await asyncio.gather(\n",
    "    *(VideoMetadataFetcher.from_path(file) for file in mp4_files)\n",
    ")\n",
    "metadatas"
   ]
  },
  {
   "cell_type": "code",
   "execution_count": 2,
   "id": "8c27a9ff",
   "metadata": {},
   "outputs": [
    {
     "name": "stdout",
     "output_type": "stream",
     "text": [
      "Stream metadata: {\n",
      "  \"input_video\": {\n",
      "    \"fps\": \"30\",\n",
      "    \"total_frames\": 21943,\n",
      "    \"resolution\": {\n",
      "      \"width\": 2880,\n",
      "      \"height\": 1800\n",
      "    },\n",
      "    \"start_pts\": 26881281274875,\n",
      "    \"duration\": 11234811,\n",
      "    \"time_base\": \"1/15360\"\n",
      "  },\n",
      "  \"output_video\": {\n",
      "    \"fps\": \"4\",\n",
      "    \"total_frames\": 2925,\n",
      "    \"resolution\": {\n",
      "      \"width\": 784,\n",
      "      \"height\": 504\n",
      "    }\n",
      "  },\n",
      "  \"output_frames_per_chunk\": 32\n",
      "}\n"
     ]
    },
    {
     "data": {
      "text/plain": [
       "StreamMetadata(input_video=VideoMetadata(fps=Fraction(30, 1), total_frames=21943, resolution=2880x1800, start_pts=26881281274875, duration=11234811, time_base=Fraction(1, 15360)), output_video=FramesMetadata(fps=Fraction(4, 1), total_frames=2925, resolution=784x504), output_frames_per_chunk=32)"
      ]
     },
     "execution_count": 2,
     "metadata": {},
     "output_type": "execute_result"
    }
   ],
   "source": [
    "from synapse.video_loader.video import get_folder_stream_metadata, StreamVideoArgs\n",
    "from fractions import Fraction\n",
    "from synapse.video_loader.typess import resolution_480p\n",
    "await get_folder_stream_metadata(\n",
    "    StreamVideoArgs(\n",
    "        output_fps=Fraction(4, 1),\n",
    "        video_path=\"gs://\" + str(video_folder),\n",
    "        max_pixels=resolution_480p.pixels(),\n",
    "        frames_per_chunk=32\n",
    "    )\n",
    ")\n"
   ]
  },
  {
   "cell_type": "code",
   "execution_count": 5,
   "id": "0162d3e2",
   "metadata": {},
   "outputs": [
    {
     "ename": "InvalidDataError",
     "evalue": "[Errno 1094995529] Invalid data found when processing input: '<none>'",
     "output_type": "error",
     "traceback": [
      "\u001b[31m---------------------------------------------------------------------------\u001b[39m",
      "\u001b[31mInvalidDataError\u001b[39m                          Traceback (most recent call last)",
      "\u001b[36mCell\u001b[39m\u001b[36m \u001b[39m\u001b[32mIn[5]\u001b[39m\u001b[32m, line 6\u001b[39m\n\u001b[32m      3\u001b[39m fs = gcsfs.GCSFileSystem(project=\u001b[33m\"\u001b[39m\u001b[33minduction-labs\u001b[39m\u001b[33m\"\u001b[39m)\n\u001b[32m      4\u001b[39m \u001b[38;5;28;01mwith\u001b[39;00m fs.open(\u001b[33m\"\u001b[39m\u001b[33minduction-labs/youtube/CGvIVbISOxY/output.mp4\u001b[39m\u001b[33m\"\u001b[39m, \u001b[33m\"\u001b[39m\u001b[33mrb\u001b[39m\u001b[33m\"\u001b[39m) \u001b[38;5;28;01mas\u001b[39;00m fobj:\n\u001b[32m      5\u001b[39m     \u001b[38;5;66;03m# 3) Tell PyAV to treat that stream as an MP4 container\u001b[39;00m\n\u001b[32m----> \u001b[39m\u001b[32m6\u001b[39m     container = \u001b[43mav\u001b[49m\u001b[43m.\u001b[49m\u001b[43mopen\u001b[49m\u001b[43m(\u001b[49m\u001b[43mfobj\u001b[49m\u001b[43m,\u001b[49m\u001b[43m \u001b[49m\u001b[38;5;28;43mformat\u001b[39;49m\u001b[43m=\u001b[49m\u001b[33;43m\"\u001b[39;49m\u001b[33;43mmp4\u001b[39;49m\u001b[33;43m\"\u001b[39;49m\u001b[43m)\u001b[49m\n\u001b[32m      7\u001b[39m     \u001b[38;5;28mprint\u001b[39m(container)\n",
      "\u001b[36mFile \u001b[39m\u001b[32m~/documents/induction-labs/repos/synapse/.devenv/state/venv/lib/python3.12/site-packages/av/container/core.pyx:418\u001b[39m, in \u001b[36mav.container.core.open\u001b[39m\u001b[34m()\u001b[39m\n",
      "\u001b[36mFile \u001b[39m\u001b[32m~/documents/induction-labs/repos/synapse/.devenv/state/venv/lib/python3.12/site-packages/av/container/core.pyx:283\u001b[39m, in \u001b[36mav.container.core.Container.__cinit__\u001b[39m\u001b[34m()\u001b[39m\n",
      "\u001b[36mFile \u001b[39m\u001b[32m~/documents/induction-labs/repos/synapse/.devenv/state/venv/lib/python3.12/site-packages/av/container/core.pyx:303\u001b[39m, in \u001b[36mav.container.core.Container.err_check\u001b[39m\u001b[34m()\u001b[39m\n",
      "\u001b[36mFile \u001b[39m\u001b[32m~/documents/induction-labs/repos/synapse/.devenv/state/venv/lib/python3.12/site-packages/av/error.pyx:424\u001b[39m, in \u001b[36mav.error.err_check\u001b[39m\u001b[34m()\u001b[39m\n",
      "\u001b[31mInvalidDataError\u001b[39m: [Errno 1094995529] Invalid data found when processing input: '<none>'"
     ]
    }
   ],
   "source": [
    "import gcsfs\n",
    "import av\n",
    "fs = gcsfs.GCSFileSystem(project=\"induction-labs\")\n",
    "with fs.open(\"induction-labs/youtube/CGvIVbISOxY/output.mp4\", \"rb\") as fobj:\n",
    "    # 3) Tell PyAV to treat that stream as an MP4 container\n",
    "    container = av.open(fobj, format=\"mp4\")\n",
    "    print(container)\n"
   ]
  }
 ],
 "metadata": {
  "kernelspec": {
   "display_name": "venv",
   "language": "python",
   "name": "python3"
  },
  "language_info": {
   "codemirror_mode": {
    "name": "ipython",
    "version": 3
   },
   "file_extension": ".py",
   "mimetype": "text/x-python",
   "name": "python",
   "nbconvert_exporter": "python",
   "pygments_lexer": "ipython3",
   "version": "3.12.9"
  }
 },
 "nbformat": 4,
 "nbformat_minor": 5
}
