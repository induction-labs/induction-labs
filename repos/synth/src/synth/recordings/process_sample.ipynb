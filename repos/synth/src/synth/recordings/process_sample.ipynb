{
 "cells": [
  {
   "cell_type": "code",
   "execution_count": 1,
   "id": "2937b044",
   "metadata": {},
   "outputs": [],
   "source": [
    "import json\n",
    "import pandas as pd\n",
    "import numpy as np\n",
    "import gcsfs\n",
    "import re"
   ]
  },
  {
   "cell_type": "code",
   "execution_count": null,
   "id": "3d9b4944",
   "metadata": {},
   "outputs": [],
   "source": [
    "# gs_path = sample[\"attempts\"][-1][\"output_url\"]\n",
    "gs_path = \"gs://induction-labs-data-ext-mumbai/action_capture/jaygohel109@gmail.com/20236825-b5df-46e7-89bf-62e1d640a897_8756d965-2d17-429a-a180-141b4a6f35e2_gen_3000-2025-07-29_17-47-10-873\"\n",
    "gs_path = gs_path.replace(\"gs://\", \"\")\n",
    "fs = gcsfs.GCSFileSystem(project=\"induction-labs\")"
   ]
  },
  {
   "cell_type": "code",
   "execution_count": 3,
   "id": "3b1a1c1d",
   "metadata": {},
   "outputs": [
    {
     "data": {
      "text/plain": [
       "['induction-labs-data-ext-mumbai/action_capture/li.jonathan42@gmail.com/4c26e3f3-3a14-4d86-b44a-d3cedebbb487-2025-07-29_04-04-50-222/action_capture_000000.jsonl',\n",
       " 'induction-labs-data-ext-mumbai/action_capture/li.jonathan42@gmail.com/4c26e3f3-3a14-4d86-b44a-d3cedebbb487-2025-07-29_04-04-50-222/metadata.json',\n",
       " 'induction-labs-data-ext-mumbai/action_capture/li.jonathan42@gmail.com/4c26e3f3-3a14-4d86-b44a-d3cedebbb487-2025-07-29_04-04-50-222/screen_capture_000000.mp4']"
      ]
     },
     "execution_count": 3,
     "metadata": {},
     "output_type": "execute_result"
    }
   ],
   "source": [
    "all_files = fs.ls(gs_path)\n",
    "all_files"
   ]
  },
  {
   "cell_type": "code",
   "execution_count": 4,
   "id": "34117689",
   "metadata": {},
   "outputs": [],
   "source": [
    "pat = re.compile(r\"/action_capture_(\\d+)\\.jsonl$\")\n",
    "ordered_action_files = sorted(\n",
    "    (f for f in all_files if pat.search(f)),\n",
    "    key=lambda f: int(pat.search(f).group(1))\n",
    ")"
   ]
  },
  {
   "cell_type": "code",
   "execution_count": 5,
   "id": "0dc487ed",
   "metadata": {},
   "outputs": [],
   "source": [
    "actions = []\n",
    "for file in ordered_action_files:\n",
    "    with fs.open(file, 'r') as f:\n",
    "        for line in f:\n",
    "            action = json.loads(line)\n",
    "            actions.append(action)"
   ]
  },
  {
   "cell_type": "code",
   "execution_count": 6,
   "id": "08713402",
   "metadata": {},
   "outputs": [
    {
     "data": {
      "text/plain": [
       "[\"drag(start_point='<point>77 35</point>', end_point='<point>885 360</point>')\",\n",
       " \"left_double(point='<point>1022 356</point>')\",\n",
       " \"left_double(point='<point>689 598</point>')\",\n",
       " \"type(content=' a s ')\",\n",
       " \"click(point='<point>784 764</point>')\",\n",
       " \"click(point='<point>1668 897</point>')\",\n",
       " \"click(point='<point>1553 719</point>')\",\n",
       " \"scroll(point='<point>1226 679</point>', direction='down')\",\n",
       " \"scroll(point='<point>1226 679</point>', direction='down')\",\n",
       " \"click(point='<point>188 382</point>')\",\n",
       " \"click(point='<point>945 416</point>')\",\n",
       " \"drag(start_point='<point>1412 461</point>', end_point='<point>1682 521</point>')\",\n",
       " \"click(point='<point>1295 594</point>')\",\n",
       " \"click(point='<point>1119 299</point>')\",\n",
       " \"click(point='<point>964 279</point>')\",\n",
       " \"drag(start_point='<point>889 297</point>', end_point='<point>1430 390</point>')\",\n",
       " \"click(point='<point>1375 495</point>')\",\n",
       " \"click(point='<point>1488 768</point>')\",\n",
       " \"drag(start_point='<point>1511 501</point>', end_point='<point>1133 507</point>')\",\n",
       " \"scroll(point='<point>1069 495</point>', direction='up')\",\n",
       " \"click(point='<point>13 622</point>')\",\n",
       " \"drag(start_point='<point>996 261</point>', end_point='<point>754 261</point>')\",\n",
       " \"drag(start_point='<point>998 257</point>', end_point='<point>758 267</point>')\",\n",
       " \"click(point='<point>564 89</point>')\",\n",
       " \"scroll(point='<point>669 386</point>', direction='down')\",\n",
       " \"click(point='<point>592 87</point>')\",\n",
       " \"click(point='<point>645 158</point>')\",\n",
       " \"click(point='<point>33 206</point>')\",\n",
       " \"click(point='<point>865 592</point>')\",\n",
       " \"type(content='\\\\n')\",\n",
       " \"click(point='<point>891 531</point>')\",\n",
       " \"type(content='ja skdjas dkajs dkajs daksjd akjs dkas dkjas dkjas dkjas dkjas kdja skjd askjd akjs dkajs djkas d')\",\n",
       " \"drag(start_point='<point>1022 1042</point>', end_point='<point>988 1044</point>')\",\n",
       " \"drag(start_point='<point>1000 1050</point>', end_point='<point>836 1058</point>')\",\n",
       " \"click(point='<point>1446 293</point>')\"]"
      ]
     },
     "execution_count": 6,
     "metadata": {},
     "output_type": "execute_result"
    }
   ],
   "source": [
    "from parse_actions import parse_actions\n",
    "parse_actions(actions)"
   ]
  },
  {
   "cell_type": "code",
   "execution_count": null,
   "id": "7f2d4e78",
   "metadata": {},
   "outputs": [],
   "source": []
  },
  {
   "cell_type": "code",
   "execution_count": 12,
   "id": "df293235",
   "metadata": {},
   "outputs": [
    {
     "data": {
      "text/plain": [
       "['induction-labs-data-ext-mumbai/action_capture/chikkaladeekshitha2000@gmail.com/b070486d-e161-459b-aa2b-ef442d973b92_130b4e2f-261b-4eaf-a139-653ea3aeabcc_gen_3000-2025-07-29_02-46-06-016/action_capture_000000.jsonl',\n",
       " 'induction-labs-data-ext-mumbai/action_capture/chikkaladeekshitha2000@gmail.com/b070486d-e161-459b-aa2b-ef442d973b92_130b4e2f-261b-4eaf-a139-653ea3aeabcc_gen_3000-2025-07-29_02-46-06-016/metadata.json',\n",
       " 'induction-labs-data-ext-mumbai/action_capture/chikkaladeekshitha2000@gmail.com/b070486d-e161-459b-aa2b-ef442d973b92_130b4e2f-261b-4eaf-a139-653ea3aeabcc_gen_3000-2025-07-29_02-46-06-016/screen_capture_000000.mp4']"
      ]
     },
     "execution_count": 12,
     "metadata": {},
     "output_type": "execute_result"
    }
   ],
   "source": [
    "fs.ls(gs_path)  # List files in the GCS path"
   ]
  }
 ],
 "metadata": {
  "kernelspec": {
   "display_name": "venv",
   "language": "python",
   "name": "python3"
  },
  "language_info": {
   "codemirror_mode": {
    "name": "ipython",
    "version": 3
   },
   "file_extension": ".py",
   "mimetype": "text/x-python",
   "name": "python",
   "nbconvert_exporter": "python",
   "pygments_lexer": "ipython3",
   "version": "3.12.9"
  }
 },
 "nbformat": 4,
 "nbformat_minor": 5
}
