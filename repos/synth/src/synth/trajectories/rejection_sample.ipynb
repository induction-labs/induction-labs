{
 "cells": [
  {
   "cell_type": "code",
   "execution_count": 1,
   "id": "c1be448e",
   "metadata": {},
   "outputs": [],
   "source": [
    "import pandas as pd"
   ]
  },
  {
   "cell_type": "code",
   "execution_count": 2,
   "id": "2336e8b6",
   "metadata": {},
   "outputs": [],
   "source": [
    "PATH = \"gs://induction-labs/evals/checkpoints/merged_step_-1_uUhioFvR_step_868_Nik8u94a/2025-08-04T04-31-39/osworld_eval_8yv5xv_j\"\n",
    "DATA_FILE = f\"{PATH}/samples.jsonl\""
   ]
  },
  {
   "cell_type": "code",
   "execution_count": 3,
   "id": "5fb4905b",
   "metadata": {},
   "outputs": [],
   "source": [
    "# fix samples\n",
    "ORIGINAL_TRAJECTORIES = pd.read_json(DATA_FILE, lines=True)\n",
    "FIXED_TRAJECTORIES = ORIGINAL_TRAJECTORIES.copy()\n",
    "FIXED_TRAJECTORIES[\"eval_task_id\"] = FIXED_TRAJECTORIES[\"eval_task_id\"].str.replace(r\"-2$\", \"\", regex=True)\n",
    "FIXED_TRAJECTORIES = FIXED_TRAJECTORIES[(FIXED_TRAJECTORIES[\"reward\"] == 0) | (FIXED_TRAJECTORIES[\"reward\"] == 1)]"
   ]
  },
  {
   "cell_type": "code",
   "execution_count": 4,
   "id": "21098aea",
   "metadata": {},
   "outputs": [],
   "source": [
    "from google.cloud import storage\n",
    "import asyncio\n",
    "import json\n",
    "import re\n",
    "\n",
    "_GS_RE = re.compile(r\"^gs://([^/]+)/(.+)$\")\n",
    "def load_turns_gcs(gs_uri: str):\n",
    "    \"\"\"\n",
    "    Reads a JSON array from Google Cloud Storage and returns\n",
    "    [{\"image\": ..., \"text\": ...}, ...] minus the last row.\n",
    "    \"\"\"\n",
    "    m = _GS_RE.match(gs_uri)\n",
    "    if not m:\n",
    "        raise ValueError(f\"Not a valid gs:// URI: {gs_uri}\")\n",
    "    bucket_name, blob_name = m.groups()\n",
    "\n",
    "    client = storage.Client()\n",
    "    bucket = client.bucket(bucket_name)\n",
    "    blob = bucket.blob(blob_name)\n",
    "\n",
    "    # download the whole object as one string\n",
    "    data_str = blob.download_as_text()\n",
    "\n",
    "    records = json.loads(data_str)  # list-of-dicts\n",
    "    return [\n",
    "        {\"image\": r[\"image\"], \"text\": r[\"text\"]} for r in records[:-1]\n",
    "    ]  # mimic .iloc[0:-1]\n",
    "\n",
    "async def load_turns_gcs_async(semaphore: asyncio.Semaphore, gs_uri: str):\n",
    "    \"\"\"\n",
    "    Asynchronous version of load_turns_gcs.\n",
    "    \"\"\"\n",
    "    async with semaphore:\n",
    "        return await asyncio.to_thread(load_turns_gcs, gs_uri)"
   ]
  },
  {
   "cell_type": "code",
   "execution_count": 5,
   "id": "5ef32884",
   "metadata": {},
   "outputs": [],
   "source": [
    "legacy = False\n",
    "if legacy:\n",
    "    semaphore = asyncio.Semaphore(64)  # limit concurrent loads\n",
    "    async def check_if_fail(semaphore, attempt_id):\n",
    "        try:\n",
    "            return (await load_turns_gcs_async(semaphore, f\"{PATH}/metadata/{attempt_id}.json\"))[-1][\"text\"] is None\n",
    "        except:\n",
    "            return True\n",
    "\n",
    "    failed = await asyncio.gather(*[\n",
    "        check_if_fail(semaphore, row[\"attempt_id\"])\n",
    "        for _i, row in FIXED_TRAJECTORIES.iterrows()\n",
    "    ])"
   ]
  },
  {
   "cell_type": "code",
   "execution_count": 6,
   "id": "89763fd9",
   "metadata": {},
   "outputs": [],
   "source": [
    "if legacy:\n",
    "    FIXED_TRAJECTORIES[\"failed\"] = failed\n",
    "    FIXED_TRAJECTORIES = FIXED_TRAJECTORIES[~FIXED_TRAJECTORIES[\"failed\"]]"
   ]
  },
  {
   "cell_type": "code",
   "execution_count": 7,
   "id": "29c9df31",
   "metadata": {},
   "outputs": [],
   "source": [
    "FIXED_TRAJECTORIES.to_json(f\"{PATH}/samples_fixed.jsonl\", orient=\"records\", lines=True)"
   ]
  },
  {
   "cell_type": "code",
   "execution_count": 21,
   "id": "fbdc9a1a",
   "metadata": {},
   "outputs": [
    {
     "data": {
      "text/plain": [
       "749"
      ]
     },
     "execution_count": 21,
     "metadata": {},
     "output_type": "execute_result"
    }
   ],
   "source": [
    "len(FIXED_TRAJECTORIES)"
   ]
  },
  {
   "cell_type": "code",
   "execution_count": 18,
   "id": "df9900e8",
   "metadata": {},
   "outputs": [
    {
     "data": {
      "text/plain": [
       "1290"
      ]
     },
     "execution_count": 18,
     "metadata": {},
     "output_type": "execute_result"
    }
   ],
   "source": [
    "len(ORIGINAL_TRAJECTORIES)"
   ]
  },
  {
   "cell_type": "code",
   "execution_count": null,
   "id": "e7fa772a",
   "metadata": {},
   "outputs": [],
   "source": [
    "# FIXED_TRAJECTORIES = pd.read_json(f\"{PATH}/samples_fixed.jsonl\", lines=True)\n",
    "# import pandas as pd\n",
    "PATH = \"gs://induction-labs/jonathan/halluminate_v1_synth\"\n",
    "PREFIX = \"hard\"\n",
    "FIXED_TRAJECTORIES = pd.read_json(f\"gs://induction-labs/jonathan/halluminate_v1_synth/tagged_samples_only_osworld_hard.jsonl\", lines=True)\n",
    "FIXED_TRAJECTORIES = FIXED_TRAJECTORIES.drop(columns=[\"thinking\", \"actions\"])"
   ]
  },
  {
   "cell_type": "code",
   "execution_count": null,
   "id": "69617c8c",
   "metadata": {},
   "outputs": [],
   "source": [
    "import pandas as pd\n",
    "import numpy as np\n",
    "\n",
    "def expand_with_sliding_windows(df: pd.DataFrame, width: int,\n",
    "                                length_col: str = \"trajectory_length\") -> pd.DataFrame:\n",
    "    \"\"\"\n",
    "    For every row in *df*, create (trajectory_length – width + 1) copies,\n",
    "    one for every sliding window of size *width*.\n",
    "    Adds two new columns:  `window_start` and `window_end` (inclusive).\n",
    "    Rows whose `trajectory_length` < width are silently dropped.\n",
    "\n",
    "    Parameters\n",
    "    ----------\n",
    "    df : pd.DataFrame                 Original data.\n",
    "    width : int                       Size of the sliding window.\n",
    "    length_col : str, default 'trajectory_length'\n",
    "                                      Column holding the total length.\n",
    "\n",
    "    Returns\n",
    "    -------\n",
    "    pd.DataFrame                      Expanded frame.\n",
    "    \"\"\"\n",
    "    if width <= 0:\n",
    "        raise ValueError(\"width must be a positive integer\")\n",
    "\n",
    "    # how many windows each row will produce\n",
    "    n_windows = df[length_col] - width + 1\n",
    "\n",
    "    # keep only rows where at least one window fits\n",
    "    valid_mask = n_windows > 0\n",
    "    df_valid   = df[valid_mask].copy()\n",
    "    n_windows  = n_windows[valid_mask]\n",
    "\n",
    "    # repeat the rows the right number of times\n",
    "    expanded = df_valid.loc[df_valid.index.repeat(n_windows)].reset_index(drop=True)\n",
    "\n",
    "    # build the window start indices in one NumPy shot\n",
    "    starts = np.concatenate([np.arange(k) for k in n_windows])\n",
    "    expanded[\"image_turns_start\"] = starts\n",
    "    expanded[\"image_turns_end\"]   = starts + width        # inclusive upper bound\n",
    "    expanded[\"text_turns_start\"] = 0\n",
    "    expanded[\"text_turns_end\"]   = starts + width\n",
    "    expanded[\"unmask_last_only\"][expanded[\"image_turns_end\"] <= 5] = False\n",
    "\n",
    "    return expanded"
   ]
  },
  {
   "cell_type": "code",
   "execution_count": 12,
   "id": "5fd93d4a",
   "metadata": {},
   "outputs": [],
   "source": [
    "CORRECT_TRAJECTORIES_EXPANDED = FIXED_TRAJECTORIES.copy()\n",
    "CORRECT_TRAJECTORIES_EXPANDED = CORRECT_TRAJECTORIES_EXPANDED #[CORRECT_TRAJECTORIES_EXPANDED[\"reward\"] == 1]\n",
    "CORRECT_TRAJECTORIES_EXPANDED = expand_with_sliding_windows(\n",
    "    CORRECT_TRAJECTORIES_EXPANDED,\n",
    "    width=5,\n",
    "    length_col=\"trajectory_length\"\n",
    ")\n",
    "num = 50\n",
    "CORRECT_TRAJECTORIES_EXPANDED = CORRECT_TRAJECTORIES_EXPANDED[CORRECT_TRAJECTORIES_EXPANDED[\"text_turns_end\"] <= num]\n",
    "CORRECT_TRAJECTORIES_EXPANDED.to_json(f\"{PATH}/{PREFIX}_samples_correct_trajectories_expanded_under_{num}.jsonl\", orient=\"records\", lines=True)"
   ]
  },
  {
   "cell_type": "code",
   "execution_count": null,
   "id": "1adbbfcc",
   "metadata": {},
   "outputs": [],
   "source": [
    "shuffled = CORRECT_TRAJECTORIES_EXPANDED.sample(frac=1, random_state=248239)\n",
    "test_size = 32\n",
    "train_size = len(shuffled) - test_size\n",
    "TRAIN_SET = shuffled.iloc[:train_size]\n",
    "TEST_SET = shuffled.iloc[train_size:]\n",
    "TEST_SET = pd.concat([TEST_SET], ignore_index=True)\n",
    "\n",
    "TRAIN_SET.to_json(f\"{PATH}/{PREFIX}_samples_correct_trajectories_expanded_under_{num}_train.jsonl\", orient=\"records\", lines=True)\n",
    "TEST_SET.to_json(f\"{PATH}/{PREFIX}_samples_correct_trajectories_expanded_under_{num}_test.jsonl\", orient=\"records\", lines=True)"
   ]
  },
  {
   "cell_type": "code",
   "execution_count": null,
   "id": "e61eefee",
   "metadata": {},
   "outputs": [],
   "source": [
    "# pd.concat([TRAIN_SET] * 10, ignore_index=True).to_json(f\"{PATH}/{PREFIX}_samples_correct_trajectories_expanded_under_{num}_train_10x.jsonl\", orient=\"records\", lines=True)"
   ]
  },
  {
   "cell_type": "code",
   "execution_count": 14,
   "id": "0307cd04",
   "metadata": {},
   "outputs": [
    {
     "data": {
      "text/plain": [
       "46.0"
      ]
     },
     "execution_count": 14,
     "metadata": {},
     "output_type": "execute_result"
    }
   ],
   "source": [
    "len(TRAIN_SET)/32"
   ]
  }
 ],
 "metadata": {
  "kernelspec": {
   "display_name": "venv",
   "language": "python",
   "name": "python3"
  },
  "language_info": {
   "codemirror_mode": {
    "name": "ipython",
    "version": 3
   },
   "file_extension": ".py",
   "mimetype": "text/x-python",
   "name": "python",
   "nbconvert_exporter": "python",
   "pygments_lexer": "ipython3",
   "version": "3.12.9"
  }
 },
 "nbformat": 4,
 "nbformat_minor": 5
}
