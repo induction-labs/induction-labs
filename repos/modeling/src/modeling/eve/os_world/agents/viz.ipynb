{
 "cells": [
  {
   "cell_type": "code",
   "execution_count": 12,
   "id": "fcd8815b",
   "metadata": {},
   "outputs": [],
   "source": [
    "import json\n",
    "import base64\n",
    "import os\n",
    "from IPython.display import Image, display"
   ]
  },
  {
   "cell_type": "code",
   "execution_count": 13,
   "id": "0d13bfc7",
   "metadata": {},
   "outputs": [],
   "source": [
    "# Adjust these paths if needed:\n",
    "MASTER_JSON_PATH = '/home/ubuntu/induction-labs/repos/modeling/osworld_uitars_testing/samples.jsonl'"
   ]
  },
  {
   "cell_type": "code",
   "execution_count": null,
   "id": "114d3cb6",
   "metadata": {},
   "outputs": [],
   "source": [
    "# 1. Load the master list of rows\n",
    "rows = [json.loads(f) for f in open(MASTER_JSON_PATH, 'r').readlines() if f.strip()]\n",
    "\n",
    "idx = 0\n",
    "\n",
    "# Pull out the list of step‑objects from the current row’s attempt_id\n",
    "attempt = rows[idx].get('attempt_id', [])\n",
    "attempt = json.load(open(\"/home/ubuntu/induction-labs/repos/modeling/osworld_uitars_testing/metadata/\" + attempt + \".json\"))\n",
    "\n",
    "# Sort by step number, then render each\n",
    "for obj in sorted(attempt, key=lambda x: x.get('step', 0)):\n",
    "    print(f\"🔹 Step:   {obj.get('step')}\")\n",
    "    if obj.get('action'):\n",
    "        print(f\"    Action: {obj.get('action')}\")\n",
    "    if obj.get('text'):\n",
    "        print(f\"    Text:   {obj.get('text')}\")\n",
    "    # show the image\n",
    "    img_data = base64.b64decode(obj.get('image', ''))\n",
    "    display(Image(data=img_data))\n",
    "    print(\"―\" * 30)\n"
   ]
  },
  {
   "cell_type": "code",
   "execution_count": null,
   "id": "9e026b09",
   "metadata": {},
   "outputs": [],
   "source": []
  }
 ],
 "metadata": {
  "kernelspec": {
   "display_name": "Python 3 (ipykernel)",
   "language": "python",
   "name": "python3"
  }
 },
 "nbformat": 4,
 "nbformat_minor": 5
}
