{
 "cells": [
  {
   "cell_type": "code",
   "execution_count": 5,
   "id": "436000f0",
   "metadata": {},
   "outputs": [],
   "source": [
    "from modeling.data.video_action import fetch_data"
   ]
  },
  {
   "cell_type": "code",
   "execution_count": 2,
   "id": "f4281e55",
   "metadata": {},
   "outputs": [
    {
     "name": "stderr",
     "output_type": "stream",
     "text": [
      "I0629 23:23:51.085560  393972 google_auth_provider.cc:149] Using credentials at /home/jeffrey_inductionlabs_com/.config/gcloud/application_default_credentials.json\n",
      "I0629 23:23:51.085667  393972 google_auth_provider.cc:156] Using OAuth2 AuthProvider\n",
      "Unused or unrecognized kwargs: images.\n"
     ]
    },
    {
     "name": "stdout",
     "output_type": "stream",
     "text": [
      "image_mean=(0.48145466, 0.4578275, 0.40821073), image_std=(0.26862954, 0.26130258, 0.27577711), do_normalize=True, do_rescale=True, rescale_factor=0.00392156862745098\n",
      "patches.shape=torch.Size([1, 16, 3, 476, 840])\n",
      "flatten_patches.shape=torch.Size([1, 16320, 1176])\n",
      "len(non_video_input_ids)=4, len(video_input_ids)=4080, num_video_tokens=4080\n"
     ]
    },
    {
     "data": {
      "text/plain": [
       "ActionDataSample(qwen_inputs=QwenInputs(input_ids=tensor([151644,    872,    198,  ...,      0,      0,      0]), attention_mask=tensor([ True,  True,  True,  ..., False, False, False]), pixel_values_videos=tensor([[1.9303, 1.9303, 1.9303,  ..., 2.1459, 2.1459, 2.1459],\n",
       "        [1.9303, 1.9303, 1.9303,  ..., 2.1459, 2.1459, 2.1459],\n",
       "        [1.9303, 1.9303, 1.9303,  ..., 2.1459, 2.1459, 2.1459],\n",
       "        ...,\n",
       "        [1.9303, 1.9303, 1.9303,  ..., 2.1459, 2.1459, 2.1459],\n",
       "        [1.9303, 1.9303, 1.9303,  ..., 2.1459, 2.1459, 2.1459],\n",
       "        [1.9303, 1.9303, 1.9303,  ..., 2.1459, 2.1459, 2.1459]]), video_grid_thw=tensor([[ 8, 34, 60]]), video_second_per_grid=tensor([1.])), cursor_path=tensor([[[0., 0., 0.],\n",
       "         [0., 0., 0.]],\n",
       "\n",
       "        [[0., 0., 0.],\n",
       "         [0., 0., 0.]],\n",
       "\n",
       "        [[0., 0., 0.],\n",
       "         [0., 0., 0.]],\n",
       "\n",
       "        ...,\n",
       "\n",
       "        [[0., 0., 0.],\n",
       "         [0., 0., 0.]],\n",
       "\n",
       "        [[0., 0., 0.],\n",
       "         [0., 0., 0.]],\n",
       "\n",
       "        [[0., 0., 0.],\n",
       "         [0., 0., 0.]]]), action_tokens=tensor([False, False, False,  ..., False, False, False]))"
      ]
     },
     "execution_count": 2,
     "metadata": {},
     "output_type": "execute_result"
    }
   ],
   "source": [
    "await fetch_data(\n",
    "  num_actions=8,\n",
    "  path=\"gs://induction-labs/jonathan/synth/cursor_follow_v1/sample_3.zarr\",\n",
    "  seq_length=4096,\n",
    ")"
   ]
  },
  {
   "cell_type": "code",
   "execution_count": 4,
   "id": "99d01b3c",
   "metadata": {},
   "outputs": [
    {
     "data": {
      "text/plain": [
       "tensor([151656, 151656, 151656, 151656, 151656, 151656, 151656, 151656, 151656,\n",
       "        151656, 151656, 151656, 151656, 151656, 151656,     -1,      0,      0,\n",
       "             0,      0])"
      ]
     },
     "execution_count": 4,
     "metadata": {},
     "output_type": "execute_result"
    }
   ],
   "source": [
    "_.qwen_inputs.input_ids[-20:]"
   ]
  }
 ],
 "metadata": {
  "kernelspec": {
   "display_name": "venv",
   "language": "python",
   "name": "python3"
  },
  "language_info": {
   "codemirror_mode": {
    "name": "ipython",
    "version": 3
   },
   "file_extension": ".py",
   "mimetype": "text/x-python",
   "name": "python",
   "nbconvert_exporter": "python",
   "pygments_lexer": "ipython3",
   "version": "3.12.9"
  }
 },
 "nbformat": 4,
 "nbformat_minor": 5
}
