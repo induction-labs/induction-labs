{
   "cells": [
      {
         "cell_type": "code",
         "execution_count": 1,
         "id": "436000f0",
         "metadata": {},
         "outputs": [],
         "source": [
            "from modeling.data.video_action import fetch_data"
         ]
      },
      {
         "cell_type": "code",
         "execution_count": 1,
         "id": "1870d746",
         "metadata": {},
         "outputs": [
            {
               "ename": "ModuleNotFoundError",
               "evalue": "No module named 'modeling'",
               "output_type": "error",
               "traceback": [
                  "\u001b[31m---------------------------------------------------------------------------\u001b[39m",
                  "\u001b[31mModuleNotFoundError\u001b[39m                       Traceback (most recent call last)",
                  "\u001b[36mCell\u001b[39m\u001b[36m \u001b[39m\u001b[32mIn[1]\u001b[39m\u001b[32m, line 1\u001b[39m\n\u001b[32m----> \u001b[39m\u001b[32m1\u001b[39m \u001b[38;5;28;01mfrom\u001b[39;00m\u001b[38;5;250m \u001b[39m\u001b[34;01mmodeling\u001b[39;00m\u001b[34;01m.\u001b[39;00m\u001b[34;01mdata\u001b[39;00m\u001b[34;01m.\u001b[39;00m\u001b[34;01mtrajectory_train\u001b[39;00m\u001b[38;5;250m \u001b[39m\u001b[38;5;28;01mimport\u001b[39;00m VlDataset, VlDatasetArgs\n\u001b[32m      2\u001b[39m result = \u001b[38;5;28;01mawait\u001b[39;00m VlDataset.constructor(VlDatasetArgs(\n\u001b[32m      3\u001b[39m     dataset_path=\u001b[33m\"\u001b[39m\u001b[33mgs://induction-labs/jonathan/sampled_trajectories/all_trajectories/all_data_samples_correct_trajectories_expanded_under_100_train.jsonl\u001b[39m\u001b[33m\"\u001b[39m,\n\u001b[32m      4\u001b[39m     seq_len=\u001b[32m16384\u001b[39m,\n\u001b[32m      5\u001b[39m     tokenizer_name=\u001b[33m\"\u001b[39m\u001b[33mByteDance-Seed/UI-TARS-1.5-7B\u001b[39m\u001b[33m\"\u001b[39m\n\u001b[32m      6\u001b[39m ))\n\u001b[32m      8\u001b[39m inputs = \u001b[38;5;28;01mawait\u001b[39;00m result.get_item(\u001b[32m0\u001b[39m)\n",
                  "\u001b[31mModuleNotFoundError\u001b[39m: No module named 'modeling'"
               ]
            }
         ],
         "source": [
            "from modeling.data.trajectory_train import VlDataset, VlDatasetArgs\n",
            "result = await VlDataset.constructor(VlDatasetArgs(\n",
            "    dataset_path=\"gs://induction-labs/jonathan/sampled_trajectories/all_trajectories/all_data_samples_correct_trajectories_expanded_under_100_train.jsonl\",\n",
            "    seq_len=16384,\n",
            "    tokenizer_name=\"ByteDance-Seed/UI-TARS-1.5-7B\"\n",
            "))\n",
            "\n",
            "inputs = await result.get_item(0)"
         ]
      },
      {
         "cell_type": "code",
         "execution_count": null,
         "id": "2c8f0f07",
         "metadata": {},
         "outputs": [],
         "source": []
      },
      {
         "cell_type": "code",
         "execution_count": 2,
         "id": "b8a6875b",
         "metadata": {},
         "outputs": [
            {
               "data": {
                  "text/html": [
                     "<div>\n",
                     "<style scoped>\n",
                     "    .dataframe tbody tr th:only-of-type {\n",
                     "        vertical-align: middle;\n",
                     "    }\n",
                     "\n",
                     "    .dataframe tbody tr th {\n",
                     "        vertical-align: top;\n",
                     "    }\n",
                     "\n",
                     "    .dataframe thead th {\n",
                     "        text-align: right;\n",
                     "    }\n",
                     "</style>\n",
                     "<table border=\"1\" class=\"dataframe\">\n",
                     "  <thead>\n",
                     "    <tr style=\"text-align: right;\">\n",
                     "      <th></th>\n",
                     "      <th>eval_task_id</th>\n",
                     "      <th>attempt_id</th>\n",
                     "      <th>instruction</th>\n",
                     "      <th>reward</th>\n",
                     "      <th>output_folder</th>\n",
                     "      <th>trajectory_length</th>\n",
                     "      <th>failed</th>\n",
                     "    </tr>\n",
                     "  </thead>\n",
                     "  <tbody>\n",
                     "    <tr>\n",
                     "      <th>0</th>\n",
                     "      <td>3ef2b351-8a84-4ff2-8724-d86eae9b842e</td>\n",
                     "      <td>3beb7b89afe948d0add3166c0117432e</td>\n",
                     "      <td>Help me center align the heading in LibreOffice.</td>\n",
                     "      <td>1</td>\n",
                     "      <td>gs://induction-labs-data-ext-mumbai/evals/test...</td>\n",
                     "      <td>5</td>\n",
                     "      <td>False</td>\n",
                     "    </tr>\n",
                     "    <tr>\n",
                     "      <th>1</th>\n",
                     "      <td>72b810ef-4156-4d09-8f08-a0cf57e7cefe</td>\n",
                     "      <td>ad6da76ce4864c8d8f6f3453a0f0965a</td>\n",
                     "      <td>I am peer-reviewing my friend's course outline...</td>\n",
                     "      <td>1</td>\n",
                     "      <td>gs://induction-labs-data-ext-mumbai/evals/test...</td>\n",
                     "      <td>5</td>\n",
                     "      <td>False</td>\n",
                     "    </tr>\n",
                     "    <tr>\n",
                     "      <th>2</th>\n",
                     "      <td>dd84e895-72fd-4023-a336-97689ded257c</td>\n",
                     "      <td>6c75f88f9fdb448484926957b87c1b6d</td>\n",
                     "      <td>Add a star to every email in local Bills folder</td>\n",
                     "      <td>1</td>\n",
                     "      <td>gs://induction-labs-data-ext-mumbai/evals/test...</td>\n",
                     "      <td>6</td>\n",
                     "      <td>False</td>\n",
                     "    </tr>\n",
                     "    <tr>\n",
                     "      <th>3</th>\n",
                     "      <td>e528b65e-1107-4b8c-8988-490e4fece599</td>\n",
                     "      <td>d87f929107534fffa0548e08b015f558</td>\n",
                     "      <td>Please help me make the first letter of each w...</td>\n",
                     "      <td>1</td>\n",
                     "      <td>gs://induction-labs-data-ext-mumbai/evals/test...</td>\n",
                     "      <td>6</td>\n",
                     "      <td>False</td>\n",
                     "    </tr>\n",
                     "    <tr>\n",
                     "      <th>4</th>\n",
                     "      <td>08aced46-45a2-48d7-993b-ed3fb5b32302</td>\n",
                     "      <td>409dac12fdb740e686232151cb7388d2</td>\n",
                     "      <td>Give the slide 2 the right aligned title, \"Note\".</td>\n",
                     "      <td>1</td>\n",
                     "      <td>gs://induction-labs-data-ext-mumbai/evals/test...</td>\n",
                     "      <td>7</td>\n",
                     "      <td>False</td>\n",
                     "    </tr>\n",
                     "    <tr>\n",
                     "      <th>...</th>\n",
                     "      <td>...</td>\n",
                     "      <td>...</td>\n",
                     "      <td>...</td>\n",
                     "      <td>...</td>\n",
                     "      <td>...</td>\n",
                     "      <td>...</td>\n",
                     "      <td>...</td>\n",
                     "    </tr>\n",
                     "    <tr>\n",
                     "      <th>1128</th>\n",
                     "      <td>535364ea-05bd-46ea-9937-9f55c68507e8</td>\n",
                     "      <td>55cbc75da9d048248ed8a6bcd0816683</td>\n",
                     "      <td>Create two tables in a new sheet showing the t...</td>\n",
                     "      <td>0</td>\n",
                     "      <td>gs://induction-labs-data-ext-mumbai/evals/test...</td>\n",
                     "      <td>97</td>\n",
                     "      <td>False</td>\n",
                     "    </tr>\n",
                     "    <tr>\n",
                     "      <th>1129</th>\n",
                     "      <td>e2392362-125e-4f76-a2ee-524b183a3412</td>\n",
                     "      <td>ba9d2bb7e815485dbf5137bc9492c028</td>\n",
                     "      <td>I recently started using the famous personal a...</td>\n",
                     "      <td>0</td>\n",
                     "      <td>gs://induction-labs-data-ext-mumbai/evals/test...</td>\n",
                     "      <td>101</td>\n",
                     "      <td>False</td>\n",
                     "    </tr>\n",
                     "    <tr>\n",
                     "      <th>1130</th>\n",
                     "      <td>b52b40a5-ad70-4c53-b5b0-5650a8387052</td>\n",
                     "      <td>47a8a1593c4e4bd0829411633332b9b6</td>\n",
                     "      <td>Could you help me merge all PDF files in the \"...</td>\n",
                     "      <td>0</td>\n",
                     "      <td>gs://induction-labs-data-ext-mumbai/evals/test...</td>\n",
                     "      <td>98</td>\n",
                     "      <td>False</td>\n",
                     "    </tr>\n",
                     "    <tr>\n",
                     "      <th>1131</th>\n",
                     "      <td>adf5e2c3-64c7-4644-b7b6-d2f0167927e7</td>\n",
                     "      <td>723529122c004e7eae9c55d58fd063f7</td>\n",
                     "      <td>Help me adding \"Steinberg, F. M., Bearden, M. ...</td>\n",
                     "      <td>0</td>\n",
                     "      <td>gs://induction-labs-data-ext-mumbai/evals/test...</td>\n",
                     "      <td>101</td>\n",
                     "      <td>False</td>\n",
                     "    </tr>\n",
                     "    <tr>\n",
                     "      <th>1132</th>\n",
                     "      <td>e2392362-125e-4f76-a2ee-524b183a3412</td>\n",
                     "      <td>a2d2edbba4a2471dbe2ab09a04d9b21e</td>\n",
                     "      <td>I recently started using the famous personal a...</td>\n",
                     "      <td>0</td>\n",
                     "      <td>gs://induction-labs-data-ext-mumbai/evals/test...</td>\n",
                     "      <td>101</td>\n",
                     "      <td>False</td>\n",
                     "    </tr>\n",
                     "  </tbody>\n",
                     "</table>\n",
                     "<p>1133 rows × 7 columns</p>\n",
                     "</div>"
                  ],
                  "text/plain": [
                     "                              eval_task_id                        attempt_id  \\\n",
                     "0     3ef2b351-8a84-4ff2-8724-d86eae9b842e  3beb7b89afe948d0add3166c0117432e   \n",
                     "1     72b810ef-4156-4d09-8f08-a0cf57e7cefe  ad6da76ce4864c8d8f6f3453a0f0965a   \n",
                     "2     dd84e895-72fd-4023-a336-97689ded257c  6c75f88f9fdb448484926957b87c1b6d   \n",
                     "3     e528b65e-1107-4b8c-8988-490e4fece599  d87f929107534fffa0548e08b015f558   \n",
                     "4     08aced46-45a2-48d7-993b-ed3fb5b32302  409dac12fdb740e686232151cb7388d2   \n",
                     "...                                    ...                               ...   \n",
                     "1128  535364ea-05bd-46ea-9937-9f55c68507e8  55cbc75da9d048248ed8a6bcd0816683   \n",
                     "1129  e2392362-125e-4f76-a2ee-524b183a3412  ba9d2bb7e815485dbf5137bc9492c028   \n",
                     "1130  b52b40a5-ad70-4c53-b5b0-5650a8387052  47a8a1593c4e4bd0829411633332b9b6   \n",
                     "1131  adf5e2c3-64c7-4644-b7b6-d2f0167927e7  723529122c004e7eae9c55d58fd063f7   \n",
                     "1132  e2392362-125e-4f76-a2ee-524b183a3412  a2d2edbba4a2471dbe2ab09a04d9b21e   \n",
                     "\n",
                     "                                            instruction  reward  \\\n",
                     "0      Help me center align the heading in LibreOffice.       1   \n",
                     "1     I am peer-reviewing my friend's course outline...       1   \n",
                     "2       Add a star to every email in local Bills folder       1   \n",
                     "3     Please help me make the first letter of each w...       1   \n",
                     "4     Give the slide 2 the right aligned title, \"Note\".       1   \n",
                     "...                                                 ...     ...   \n",
                     "1128  Create two tables in a new sheet showing the t...       0   \n",
                     "1129  I recently started using the famous personal a...       0   \n",
                     "1130  Could you help me merge all PDF files in the \"...       0   \n",
                     "1131  Help me adding \"Steinberg, F. M., Bearden, M. ...       0   \n",
                     "1132  I recently started using the famous personal a...       0   \n",
                     "\n",
                     "                                          output_folder  trajectory_length  \\\n",
                     "0     gs://induction-labs-data-ext-mumbai/evals/test...                  5   \n",
                     "1     gs://induction-labs-data-ext-mumbai/evals/test...                  5   \n",
                     "2     gs://induction-labs-data-ext-mumbai/evals/test...                  6   \n",
                     "3     gs://induction-labs-data-ext-mumbai/evals/test...                  6   \n",
                     "4     gs://induction-labs-data-ext-mumbai/evals/test...                  7   \n",
                     "...                                                 ...                ...   \n",
                     "1128  gs://induction-labs-data-ext-mumbai/evals/test...                 97   \n",
                     "1129  gs://induction-labs-data-ext-mumbai/evals/test...                101   \n",
                     "1130  gs://induction-labs-data-ext-mumbai/evals/test...                 98   \n",
                     "1131  gs://induction-labs-data-ext-mumbai/evals/test...                101   \n",
                     "1132  gs://induction-labs-data-ext-mumbai/evals/test...                101   \n",
                     "\n",
                     "      failed  \n",
                     "0      False  \n",
                     "1      False  \n",
                     "2      False  \n",
                     "3      False  \n",
                     "4      False  \n",
                     "...      ...  \n",
                     "1128   False  \n",
                     "1129   False  \n",
                     "1130   False  \n",
                     "1131   False  \n",
                     "1132   False  \n",
                     "\n",
                     "[1133 rows x 7 columns]"
                  ]
               },
               "execution_count": 2,
               "metadata": {},
               "output_type": "execute_result"
            }
         ],
         "source": [
            "import pandas as pd\n",
            "pd.read_json(\"gs://induction-labs/jonathan/sampled_trajectories/osworld_uitars_5x_en_fixed_browser/samples_fixed.jsonl\", lines=True)"
         ]
      },
      {
         "cell_type": "code",
         "execution_count": 14,
         "id": "f3bc5cc9",
         "metadata": {},
         "outputs": [],
         "source": [
            "from modeling.data.trajectory_train import VlDataset, VlDatasetArgs"
         ]
      },
      {
         "cell_type": "code",
         "execution_count": null,
         "id": "1e1ffa44",
         "metadata": {},
         "outputs": [],
         "source": [
            "VlDataset.constructor(VlDatasetArgs(\n",
            "    dataset_path=\"gs://induction-labs/jonathan/sampled_trajectories/uitars_initial_osworld_fixed/samples_correct.jsonl\",\n",
            "    seq_len=8192,\n",
            "    tokenizer_name=\"ByteDance-Seed/UI-TARS-1.5-7B\"\n",
            "))"
         ]
      },
      {
         "cell_type": "code",
         "execution_count": 1,
         "id": "6e221c15",
         "metadata": {},
         "outputs": [],
         "source": [
            "import pandas as pd"
         ]
      },
      {
         "cell_type": "code",
         "execution_count": 11,
         "id": "7abb0f2a",
         "metadata": {},
         "outputs": [],
         "source": [
            "res = pd.read_json(\"gs://induction-labs/jonathan/sampled_trajectories/uitars_initial_osworld_fixed/metadata/aae07460ac1c4a25939225e727fecdcb.json\").iloc[0:-1][[\"image\", \"text\"]].to_dict(orient=\"records\")"
         ]
      },
      {
         "cell_type": "code",
         "execution_count": 2,
         "id": "9abc0022",
         "metadata": {},
         "outputs": [],
         "source": [
            "from transformers import AutoTokenizer"
         ]
      },
      {
         "cell_type": "code",
         "execution_count": 4,
         "id": "a694c1fb",
         "metadata": {},
         "outputs": [],
         "source": [
            "tokenizer = AutoTokenizer.from_pretrained(\"Qwen/Qwen2.5-Omni-3B\", trust_remote_code=True)"
         ]
      },
      {
         "cell_type": "code",
         "execution_count": null,
         "id": "f4281e55",
         "metadata": {},
         "outputs": [
            {
               "name": "stderr",
               "output_type": "stream",
               "text": [
                  "Unused or unrecognized kwargs: images.\n"
               ]
            },
            {
               "name": "stdout",
               "output_type": "stream",
               "text": [
                  "len(non_video_input_ids)=4, len(video_input_ids)=4080, num_video_tokens=4080, seq_length=8192\n"
               ]
            },
            {
               "data": {
                  "text/plain": [
                     "ActionDataSample(qwen_inputs=QwenInputs(input_ids=tensor([151644,    872,    198,  ...,      0,      0,      0]), attention_mask=tensor([1, 1, 1,  ..., 0, 0, 0]), pixel_values_videos=tensor([[1.9303, 1.9303, 1.9303,  ..., 2.1459, 2.1459, 2.1459],\n",
                     "        [1.9303, 1.9303, 1.9303,  ..., 2.1459, 2.1459, 2.1459],\n",
                     "        [1.9303, 1.9303, 1.9303,  ..., 2.1459, 2.1459, 2.1459],\n",
                     "        ...,\n",
                     "        [1.9303, 1.9303, 1.9303,  ..., 2.1459, 2.1459, 2.1459],\n",
                     "        [1.9303, 1.9303, 1.9303,  ..., 2.1459, 2.1459, 2.1459],\n",
                     "        [1.9303, 1.9303, 1.9303,  ..., 2.1459, 2.1459, 2.1459]]), video_grid_thw=tensor([[ 8, 34, 60]]), video_second_per_grid=tensor([1.])), cursor_path=tensor([[[0., 0., 0.],\n",
                     "         [0., 0., 0.]],\n",
                     "\n",
                     "        [[0., 0., 0.],\n",
                     "         [0., 0., 0.]],\n",
                     "\n",
                     "        [[0., 0., 0.],\n",
                     "         [0., 0., 0.]],\n",
                     "\n",
                     "        ...,\n",
                     "\n",
                     "        [[0., 0., 0.],\n",
                     "         [0., 0., 0.]],\n",
                     "\n",
                     "        [[0., 0., 0.],\n",
                     "         [0., 0., 0.]],\n",
                     "\n",
                     "        [[0., 0., 0.],\n",
                     "         [0., 0., 0.]]]), action_tokens=tensor([False, False, False,  ..., False, False, False]))"
                  ]
               },
               "execution_count": 4,
               "metadata": {},
               "output_type": "execute_result"
            }
         ],
         "source": [
            "await fetch_data(\n",
            "  num_actions=8,\n",
            "  path=\"gs://induction-labs/jonathan/synth/cursor_follow_v1/sample_3.zarr\",\n",
            "  seq_length=8192,\n",
            ")\n"
         ]
      },
      {
         "cell_type": "code",
         "execution_count": 4,
         "id": "99d01b3c",
         "metadata": {},
         "outputs": [
            {
               "data": {
                  "text/plain": [
                     "tensor([151656, 151656, 151656, 151656, 151656, 151656, 151656, 151656, 151656,\n",
                     "        151656, 151656, 151656, 151656, 151656, 151656,     -1,      0,      0,\n",
                     "             0,      0])"
                  ]
               },
               "execution_count": 4,
               "metadata": {},
               "output_type": "execute_result"
            }
         ],
         "source": [
            "_.qwen_inputs.input_ids[-20:]"
         ]
      },
      {
         "cell_type": "code",
         "execution_count": 1,
         "id": "5fb4917f",
         "metadata": {},
         "outputs": [],
         "source": [
            "import pandas as pd\n",
            "df = pd.read_json(\"gs://induction-labs/jonathan/sampled_trajectories/osworld_uitars_10x_en_5k/samples_correct_expanded_5_under_20_turns_train.jsonl\", lines=True)"
         ]
      },
      {
         "cell_type": "code",
         "execution_count": 5,
         "id": "6a5c98fb",
         "metadata": {},
         "outputs": [],
         "source": [
            "df[df[\"unmask_last_only\"] == False].to_json(\n",
            "    \"gs://induction-labs/jonathan/sampled_trajectories/osworld_uitars_10x_en_5k/samples_correct_expanded_5_under_20_turns_train_only_5.jsonl\",\n",
            "    lines=True, orient=\"records\"\n",
            ")"
         ]
      }
   ],
   "metadata": {
      "kernelspec": {
         "display_name": "venv",
         "language": "python",
         "name": "python3"
      },
      "language_info": {
         "codemirror_mode": {
            "name": "ipython",
            "version": 3
         },
         "file_extension": ".py",
         "mimetype": "text/x-python",
         "name": "python",
         "nbconvert_exporter": "python",
         "pygments_lexer": "ipython3",
         "version": "3.12.9"
      }
   },
   "nbformat": 4,
   "nbformat_minor": 5
}
